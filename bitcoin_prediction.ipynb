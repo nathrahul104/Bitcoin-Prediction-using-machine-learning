{
  "nbformat": 4,
  "nbformat_minor": 0,
  "metadata": {
    "colab": {
      "name": "bitcoin_prediction.ipynb",
      "provenance": [],
      "collapsed_sections": [],
      "authorship_tag": "ABX9TyObYIITGuy2IxaUwpK5ZmVD",
      "include_colab_link": true
    },
    "kernelspec": {
      "name": "python3",
      "display_name": "Python 3"
    }
  },
  "cells": [
    {
      "cell_type": "markdown",
      "metadata": {
        "id": "view-in-github",
        "colab_type": "text"
      },
      "source": [
        "<a href=\"https://colab.research.google.com/github/rahulnath2904/Bitcoin-Prediction-using-machine-learning/blob/master/bitcoin_prediction.ipynb\" target=\"_parent\"><img src=\"https://colab.research.google.com/assets/colab-badge.svg\" alt=\"Open In Colab\"/></a>"
      ]
    },
    {
      "cell_type": "code",
      "metadata": {
        "id": "pWFQfx2KiMeX",
        "colab_type": "code",
        "colab": {}
      },
      "source": [
        "# Description: This is a Bitcoin Price Prediction Using Machine Learning and Python.\n",
        "# This Program predicts the price of Bitcoin for the next 30 Days."
      ],
      "execution_count": null,
      "outputs": []
    },
    {
      "cell_type": "code",
      "metadata": {
        "id": "wZRoW71Mireq",
        "colab_type": "code",
        "colab": {}
      },
      "source": [
        "# Created By Rahul Nath"
      ],
      "execution_count": null,
      "outputs": []
    },
    {
      "cell_type": "code",
      "metadata": {
        "id": "4Qzf58C0vZ6r",
        "colab_type": "code",
        "colab": {}
      },
      "source": [
        "# Import the Libraries\n",
        "import pandas as pd\n",
        "import numpy as np\n"
      ],
      "execution_count": null,
      "outputs": []
    },
    {
      "cell_type": "code",
      "metadata": {
        "id": "iEOmSJHyvlJN",
        "colab_type": "code",
        "colab": {
          "resources": {
            "http://localhost:8080/nbextensions/google.colab/files.js": {
              "data": "Ly8gQ29weXJpZ2h0IDIwMTcgR29vZ2xlIExMQwovLwovLyBMaWNlbnNlZCB1bmRlciB0aGUgQXBhY2hlIExpY2Vuc2UsIFZlcnNpb24gMi4wICh0aGUgIkxpY2Vuc2UiKTsKLy8geW91IG1heSBub3QgdXNlIHRoaXMgZmlsZSBleGNlcHQgaW4gY29tcGxpYW5jZSB3aXRoIHRoZSBMaWNlbnNlLgovLyBZb3UgbWF5IG9idGFpbiBhIGNvcHkgb2YgdGhlIExpY2Vuc2UgYXQKLy8KLy8gICAgICBodHRwOi8vd3d3LmFwYWNoZS5vcmcvbGljZW5zZXMvTElDRU5TRS0yLjAKLy8KLy8gVW5sZXNzIHJlcXVpcmVkIGJ5IGFwcGxpY2FibGUgbGF3IG9yIGFncmVlZCB0byBpbiB3cml0aW5nLCBzb2Z0d2FyZQovLyBkaXN0cmlidXRlZCB1bmRlciB0aGUgTGljZW5zZSBpcyBkaXN0cmlidXRlZCBvbiBhbiAiQVMgSVMiIEJBU0lTLAovLyBXSVRIT1VUIFdBUlJBTlRJRVMgT1IgQ09ORElUSU9OUyBPRiBBTlkgS0lORCwgZWl0aGVyIGV4cHJlc3Mgb3IgaW1wbGllZC4KLy8gU2VlIHRoZSBMaWNlbnNlIGZvciB0aGUgc3BlY2lmaWMgbGFuZ3VhZ2UgZ292ZXJuaW5nIHBlcm1pc3Npb25zIGFuZAovLyBsaW1pdGF0aW9ucyB1bmRlciB0aGUgTGljZW5zZS4KCi8qKgogKiBAZmlsZW92ZXJ2aWV3IEhlbHBlcnMgZm9yIGdvb2dsZS5jb2xhYiBQeXRob24gbW9kdWxlLgogKi8KKGZ1bmN0aW9uKHNjb3BlKSB7CmZ1bmN0aW9uIHNwYW4odGV4dCwgc3R5bGVBdHRyaWJ1dGVzID0ge30pIHsKICBjb25zdCBlbGVtZW50ID0gZG9jdW1lbnQuY3JlYXRlRWxlbWVudCgnc3BhbicpOwogIGVsZW1lbnQudGV4dENvbnRlbnQgPSB0ZXh0OwogIGZvciAoY29uc3Qga2V5IG9mIE9iamVjdC5rZXlzKHN0eWxlQXR0cmlidXRlcykpIHsKICAgIGVsZW1lbnQuc3R5bGVba2V5XSA9IHN0eWxlQXR0cmlidXRlc1trZXldOwogIH0KICByZXR1cm4gZWxlbWVudDsKfQoKLy8gTWF4IG51bWJlciBvZiBieXRlcyB3aGljaCB3aWxsIGJlIHVwbG9hZGVkIGF0IGEgdGltZS4KY29uc3QgTUFYX1BBWUxPQURfU0laRSA9IDEwMCAqIDEwMjQ7CgpmdW5jdGlvbiBfdXBsb2FkRmlsZXMoaW5wdXRJZCwgb3V0cHV0SWQpIHsKICBjb25zdCBzdGVwcyA9IHVwbG9hZEZpbGVzU3RlcChpbnB1dElkLCBvdXRwdXRJZCk7CiAgY29uc3Qgb3V0cHV0RWxlbWVudCA9IGRvY3VtZW50LmdldEVsZW1lbnRCeUlkKG91dHB1dElkKTsKICAvLyBDYWNoZSBzdGVwcyBvbiB0aGUgb3V0cHV0RWxlbWVudCB0byBtYWtlIGl0IGF2YWlsYWJsZSBmb3IgdGhlIG5leHQgY2FsbAogIC8vIHRvIHVwbG9hZEZpbGVzQ29udGludWUgZnJvbSBQeXRob24uCiAgb3V0cHV0RWxlbWVudC5zdGVwcyA9IHN0ZXBzOwoKICByZXR1cm4gX3VwbG9hZEZpbGVzQ29udGludWUob3V0cHV0SWQpOwp9CgovLyBUaGlzIGlzIHJvdWdobHkgYW4gYXN5bmMgZ2VuZXJhdG9yIChub3Qgc3VwcG9ydGVkIGluIHRoZSBicm93c2VyIHlldCksCi8vIHdoZXJlIHRoZXJlIGFyZSBtdWx0aXBsZSBhc3luY2hyb25vdXMgc3RlcHMgYW5kIHRoZSBQeXRob24gc2lkZSBpcyBnb2luZwovLyB0byBwb2xsIGZvciBjb21wbGV0aW9uIG9mIGVhY2ggc3RlcC4KLy8gVGhpcyB1c2VzIGEgUHJvbWlzZSB0byBibG9jayB0aGUgcHl0aG9uIHNpZGUgb24gY29tcGxldGlvbiBvZiBlYWNoIHN0ZXAsCi8vIHRoZW4gcGFzc2VzIHRoZSByZXN1bHQgb2YgdGhlIHByZXZpb3VzIHN0ZXAgYXMgdGhlIGlucHV0IHRvIHRoZSBuZXh0IHN0ZXAuCmZ1bmN0aW9uIF91cGxvYWRGaWxlc0NvbnRpbnVlKG91dHB1dElkKSB7CiAgY29uc3Qgb3V0cHV0RWxlbWVudCA9IGRvY3VtZW50LmdldEVsZW1lbnRCeUlkKG91dHB1dElkKTsKICBjb25zdCBzdGVwcyA9IG91dHB1dEVsZW1lbnQuc3RlcHM7CgogIGNvbnN0IG5leHQgPSBzdGVwcy5uZXh0KG91dHB1dEVsZW1lbnQubGFzdFByb21pc2VWYWx1ZSk7CiAgcmV0dXJuIFByb21pc2UucmVzb2x2ZShuZXh0LnZhbHVlLnByb21pc2UpLnRoZW4oKHZhbHVlKSA9PiB7CiAgICAvLyBDYWNoZSB0aGUgbGFzdCBwcm9taXNlIHZhbHVlIHRvIG1ha2UgaXQgYXZhaWxhYmxlIHRvIHRoZSBuZXh0CiAgICAvLyBzdGVwIG9mIHRoZSBnZW5lcmF0b3IuCiAgICBvdXRwdXRFbGVtZW50Lmxhc3RQcm9taXNlVmFsdWUgPSB2YWx1ZTsKICAgIHJldHVybiBuZXh0LnZhbHVlLnJlc3BvbnNlOwogIH0pOwp9CgovKioKICogR2VuZXJhdG9yIGZ1bmN0aW9uIHdoaWNoIGlzIGNhbGxlZCBiZXR3ZWVuIGVhY2ggYXN5bmMgc3RlcCBvZiB0aGUgdXBsb2FkCiAqIHByb2Nlc3MuCiAqIEBwYXJhbSB7c3RyaW5nfSBpbnB1dElkIEVsZW1lbnQgSUQgb2YgdGhlIGlucHV0IGZpbGUgcGlja2VyIGVsZW1lbnQuCiAqIEBwYXJhbSB7c3RyaW5nfSBvdXRwdXRJZCBFbGVtZW50IElEIG9mIHRoZSBvdXRwdXQgZGlzcGxheS4KICogQHJldHVybiB7IUl0ZXJhYmxlPCFPYmplY3Q+fSBJdGVyYWJsZSBvZiBuZXh0IHN0ZXBzLgogKi8KZnVuY3Rpb24qIHVwbG9hZEZpbGVzU3RlcChpbnB1dElkLCBvdXRwdXRJZCkgewogIGNvbnN0IGlucHV0RWxlbWVudCA9IGRvY3VtZW50LmdldEVsZW1lbnRCeUlkKGlucHV0SWQpOwogIGlucHV0RWxlbWVudC5kaXNhYmxlZCA9IGZhbHNlOwoKICBjb25zdCBvdXRwdXRFbGVtZW50ID0gZG9jdW1lbnQuZ2V0RWxlbWVudEJ5SWQob3V0cHV0SWQpOwogIG91dHB1dEVsZW1lbnQuaW5uZXJIVE1MID0gJyc7CgogIGNvbnN0IHBpY2tlZFByb21pc2UgPSBuZXcgUHJvbWlzZSgocmVzb2x2ZSkgPT4gewogICAgaW5wdXRFbGVtZW50LmFkZEV2ZW50TGlzdGVuZXIoJ2NoYW5nZScsIChlKSA9PiB7CiAgICAgIHJlc29sdmUoZS50YXJnZXQuZmlsZXMpOwogICAgfSk7CiAgfSk7CgogIGNvbnN0IGNhbmNlbCA9IGRvY3VtZW50LmNyZWF0ZUVsZW1lbnQoJ2J1dHRvbicpOwogIGlucHV0RWxlbWVudC5wYXJlbnRFbGVtZW50LmFwcGVuZENoaWxkKGNhbmNlbCk7CiAgY2FuY2VsLnRleHRDb250ZW50ID0gJ0NhbmNlbCB1cGxvYWQnOwogIGNvbnN0IGNhbmNlbFByb21pc2UgPSBuZXcgUHJvbWlzZSgocmVzb2x2ZSkgPT4gewogICAgY2FuY2VsLm9uY2xpY2sgPSAoKSA9PiB7CiAgICAgIHJlc29sdmUobnVsbCk7CiAgICB9OwogIH0pOwoKICAvLyBXYWl0IGZvciB0aGUgdXNlciB0byBwaWNrIHRoZSBmaWxlcy4KICBjb25zdCBmaWxlcyA9IHlpZWxkIHsKICAgIHByb21pc2U6IFByb21pc2UucmFjZShbcGlja2VkUHJvbWlzZSwgY2FuY2VsUHJvbWlzZV0pLAogICAgcmVzcG9uc2U6IHsKICAgICAgYWN0aW9uOiAnc3RhcnRpbmcnLAogICAgfQogIH07CgogIGNhbmNlbC5yZW1vdmUoKTsKCiAgLy8gRGlzYWJsZSB0aGUgaW5wdXQgZWxlbWVudCBzaW5jZSBmdXJ0aGVyIHBpY2tzIGFyZSBub3QgYWxsb3dlZC4KICBpbnB1dEVsZW1lbnQuZGlzYWJsZWQgPSB0cnVlOwoKICBpZiAoIWZpbGVzKSB7CiAgICByZXR1cm4gewogICAgICByZXNwb25zZTogewogICAgICAgIGFjdGlvbjogJ2NvbXBsZXRlJywKICAgICAgfQogICAgfTsKICB9CgogIGZvciAoY29uc3QgZmlsZSBvZiBmaWxlcykgewogICAgY29uc3QgbGkgPSBkb2N1bWVudC5jcmVhdGVFbGVtZW50KCdsaScpOwogICAgbGkuYXBwZW5kKHNwYW4oZmlsZS5uYW1lLCB7Zm9udFdlaWdodDogJ2JvbGQnfSkpOwogICAgbGkuYXBwZW5kKHNwYW4oCiAgICAgICAgYCgke2ZpbGUudHlwZSB8fCAnbi9hJ30pIC0gJHtmaWxlLnNpemV9IGJ5dGVzLCBgICsKICAgICAgICBgbGFzdCBtb2RpZmllZDogJHsKICAgICAgICAgICAgZmlsZS5sYXN0TW9kaWZpZWREYXRlID8gZmlsZS5sYXN0TW9kaWZpZWREYXRlLnRvTG9jYWxlRGF0ZVN0cmluZygpIDoKICAgICAgICAgICAgICAgICAgICAgICAgICAgICAgICAgICAgJ24vYSd9IC0gYCkpOwogICAgY29uc3QgcGVyY2VudCA9IHNwYW4oJzAlIGRvbmUnKTsKICAgIGxpLmFwcGVuZENoaWxkKHBlcmNlbnQpOwoKICAgIG91dHB1dEVsZW1lbnQuYXBwZW5kQ2hpbGQobGkpOwoKICAgIGNvbnN0IGZpbGVEYXRhUHJvbWlzZSA9IG5ldyBQcm9taXNlKChyZXNvbHZlKSA9PiB7CiAgICAgIGNvbnN0IHJlYWRlciA9IG5ldyBGaWxlUmVhZGVyKCk7CiAgICAgIHJlYWRlci5vbmxvYWQgPSAoZSkgPT4gewogICAgICAgIHJlc29sdmUoZS50YXJnZXQucmVzdWx0KTsKICAgICAgfTsKICAgICAgcmVhZGVyLnJlYWRBc0FycmF5QnVmZmVyKGZpbGUpOwogICAgfSk7CiAgICAvLyBXYWl0IGZvciB0aGUgZGF0YSB0byBiZSByZWFkeS4KICAgIGxldCBmaWxlRGF0YSA9IHlpZWxkIHsKICAgICAgcHJvbWlzZTogZmlsZURhdGFQcm9taXNlLAogICAgICByZXNwb25zZTogewogICAgICAgIGFjdGlvbjogJ2NvbnRpbnVlJywKICAgICAgfQogICAgfTsKCiAgICAvLyBVc2UgYSBjaHVua2VkIHNlbmRpbmcgdG8gYXZvaWQgbWVzc2FnZSBzaXplIGxpbWl0cy4gU2VlIGIvNjIxMTU2NjAuCiAgICBsZXQgcG9zaXRpb24gPSAwOwogICAgd2hpbGUgKHBvc2l0aW9uIDwgZmlsZURhdGEuYnl0ZUxlbmd0aCkgewogICAgICBjb25zdCBsZW5ndGggPSBNYXRoLm1pbihmaWxlRGF0YS5ieXRlTGVuZ3RoIC0gcG9zaXRpb24sIE1BWF9QQVlMT0FEX1NJWkUpOwogICAgICBjb25zdCBjaHVuayA9IG5ldyBVaW50OEFycmF5KGZpbGVEYXRhLCBwb3NpdGlvbiwgbGVuZ3RoKTsKICAgICAgcG9zaXRpb24gKz0gbGVuZ3RoOwoKICAgICAgY29uc3QgYmFzZTY0ID0gYnRvYShTdHJpbmcuZnJvbUNoYXJDb2RlLmFwcGx5KG51bGwsIGNodW5rKSk7CiAgICAgIHlpZWxkIHsKICAgICAgICByZXNwb25zZTogewogICAgICAgICAgYWN0aW9uOiAnYXBwZW5kJywKICAgICAgICAgIGZpbGU6IGZpbGUubmFtZSwKICAgICAgICAgIGRhdGE6IGJhc2U2NCwKICAgICAgICB9LAogICAgICB9OwogICAgICBwZXJjZW50LnRleHRDb250ZW50ID0KICAgICAgICAgIGAke01hdGgucm91bmQoKHBvc2l0aW9uIC8gZmlsZURhdGEuYnl0ZUxlbmd0aCkgKiAxMDApfSUgZG9uZWA7CiAgICB9CiAgfQoKICAvLyBBbGwgZG9uZS4KICB5aWVsZCB7CiAgICByZXNwb25zZTogewogICAgICBhY3Rpb246ICdjb21wbGV0ZScsCiAgICB9CiAgfTsKfQoKc2NvcGUuZ29vZ2xlID0gc2NvcGUuZ29vZ2xlIHx8IHt9OwpzY29wZS5nb29nbGUuY29sYWIgPSBzY29wZS5nb29nbGUuY29sYWIgfHwge307CnNjb3BlLmdvb2dsZS5jb2xhYi5fZmlsZXMgPSB7CiAgX3VwbG9hZEZpbGVzLAogIF91cGxvYWRGaWxlc0NvbnRpbnVlLAp9Owp9KShzZWxmKTsK",
              "ok": true,
              "headers": [
                [
                  "content-type",
                  "application/javascript"
                ]
              ],
              "status": 200,
              "status_text": ""
            }
          },
          "base_uri": "https://localhost:8080/",
          "height": 72
        },
        "outputId": "a586b362-2b72-4213-d3a2-25a335da96af"
      },
      "source": [
        "# Load the Data from dataset\n",
        "from google.colab import files\n",
        "uploaded = files.upload()\n"
      ],
      "execution_count": null,
      "outputs": [
        {
          "output_type": "display_data",
          "data": {
            "text/html": [
              "\n",
              "     <input type=\"file\" id=\"files-f3a9c6be-7d2f-4797-adae-d47e872e9026\" name=\"files[]\" multiple disabled\n",
              "        style=\"border:none\" />\n",
              "     <output id=\"result-f3a9c6be-7d2f-4797-adae-d47e872e9026\">\n",
              "      Upload widget is only available when the cell has been executed in the\n",
              "      current browser session. Please rerun this cell to enable.\n",
              "      </output>\n",
              "      <script src=\"/nbextensions/google.colab/files.js\"></script> "
            ],
            "text/plain": [
              "<IPython.core.display.HTML object>"
            ]
          },
          "metadata": {
            "tags": []
          }
        },
        {
          "output_type": "stream",
          "text": [
            "Saving bitcoin.csv to bitcoin (1).csv\n"
          ],
          "name": "stdout"
        }
      ]
    },
    {
      "cell_type": "code",
      "metadata": {
        "id": "iaKPFrU9vgPk",
        "colab_type": "code",
        "colab": {
          "base_uri": "https://localhost:8080/",
          "height": 266
        },
        "outputId": "8278b834-4415-4e08-b832-ec0eb56dec0d"
      },
      "source": [
        "# Store the data into a Variable\n",
        "df = pd.read_csv('bitcoin.csv')\n",
        "\n",
        "# Show the first 7 rows of dataset\n",
        "df.head(7)"
      ],
      "execution_count": null,
      "outputs": [
        {
          "output_type": "execute_result",
          "data": {
            "text/html": [
              "<div>\n",
              "<style scoped>\n",
              "    .dataframe tbody tr th:only-of-type {\n",
              "        vertical-align: middle;\n",
              "    }\n",
              "\n",
              "    .dataframe tbody tr th {\n",
              "        vertical-align: top;\n",
              "    }\n",
              "\n",
              "    .dataframe thead th {\n",
              "        text-align: right;\n",
              "    }\n",
              "</style>\n",
              "<table border=\"1\" class=\"dataframe\">\n",
              "  <thead>\n",
              "    <tr style=\"text-align: right;\">\n",
              "      <th></th>\n",
              "      <th>Date</th>\n",
              "      <th>Open</th>\n",
              "      <th>High</th>\n",
              "      <th>Low</th>\n",
              "      <th>Close</th>\n",
              "      <th>Adj Close</th>\n",
              "      <th>Volume</th>\n",
              "    </tr>\n",
              "  </thead>\n",
              "  <tbody>\n",
              "    <tr>\n",
              "      <th>0</th>\n",
              "      <td>2014-09-17</td>\n",
              "      <td>359.546204</td>\n",
              "      <td>361.468506</td>\n",
              "      <td>351.586884</td>\n",
              "      <td>355.957367</td>\n",
              "      <td>355.957367</td>\n",
              "      <td>16389165</td>\n",
              "    </tr>\n",
              "    <tr>\n",
              "      <th>1</th>\n",
              "      <td>2014-09-18</td>\n",
              "      <td>355.588409</td>\n",
              "      <td>355.505402</td>\n",
              "      <td>319.789459</td>\n",
              "      <td>328.539368</td>\n",
              "      <td>328.539368</td>\n",
              "      <td>26691849</td>\n",
              "    </tr>\n",
              "    <tr>\n",
              "      <th>2</th>\n",
              "      <td>2014-09-19</td>\n",
              "      <td>328.278503</td>\n",
              "      <td>330.936707</td>\n",
              "      <td>298.921021</td>\n",
              "      <td>307.761139</td>\n",
              "      <td>307.761139</td>\n",
              "      <td>29560102</td>\n",
              "    </tr>\n",
              "    <tr>\n",
              "      <th>3</th>\n",
              "      <td>2014-09-20</td>\n",
              "      <td>307.665253</td>\n",
              "      <td>329.978180</td>\n",
              "      <td>303.931244</td>\n",
              "      <td>318.758972</td>\n",
              "      <td>318.758972</td>\n",
              "      <td>28736825</td>\n",
              "    </tr>\n",
              "    <tr>\n",
              "      <th>4</th>\n",
              "      <td>2014-09-21</td>\n",
              "      <td>318.120514</td>\n",
              "      <td>321.504517</td>\n",
              "      <td>306.502197</td>\n",
              "      <td>310.632446</td>\n",
              "      <td>310.632446</td>\n",
              "      <td>20702624</td>\n",
              "    </tr>\n",
              "    <tr>\n",
              "      <th>5</th>\n",
              "      <td>2014-09-22</td>\n",
              "      <td>310.849762</td>\n",
              "      <td>316.469116</td>\n",
              "      <td>309.170898</td>\n",
              "      <td>312.958771</td>\n",
              "      <td>312.958771</td>\n",
              "      <td>18776342</td>\n",
              "    </tr>\n",
              "    <tr>\n",
              "      <th>6</th>\n",
              "      <td>2014-09-23</td>\n",
              "      <td>312.912079</td>\n",
              "      <td>343.704376</td>\n",
              "      <td>307.343872</td>\n",
              "      <td>339.189758</td>\n",
              "      <td>339.189758</td>\n",
              "      <td>35102350</td>\n",
              "    </tr>\n",
              "  </tbody>\n",
              "</table>\n",
              "</div>"
            ],
            "text/plain": [
              "         Date        Open        High  ...       Close   Adj Close    Volume\n",
              "0  2014-09-17  359.546204  361.468506  ...  355.957367  355.957367  16389165\n",
              "1  2014-09-18  355.588409  355.505402  ...  328.539368  328.539368  26691849\n",
              "2  2014-09-19  328.278503  330.936707  ...  307.761139  307.761139  29560102\n",
              "3  2014-09-20  307.665253  329.978180  ...  318.758972  318.758972  28736825\n",
              "4  2014-09-21  318.120514  321.504517  ...  310.632446  310.632446  20702624\n",
              "5  2014-09-22  310.849762  316.469116  ...  312.958771  312.958771  18776342\n",
              "6  2014-09-23  312.912079  343.704376  ...  339.189758  339.189758  35102350\n",
              "\n",
              "[7 rows x 7 columns]"
            ]
          },
          "metadata": {
            "tags": []
          },
          "execution_count": 84
        }
      ]
    },
    {
      "cell_type": "code",
      "metadata": {
        "id": "6EKWvIej4myq",
        "colab_type": "code",
        "colab": {}
      },
      "source": [
        "# Removing the 'Date' Column\n",
        "# (I removed them as to make my data simpler and convinience to implement)\n",
        "df.drop(['Date'],1,inplace =True)\n"
      ],
      "execution_count": null,
      "outputs": []
    },
    {
      "cell_type": "code",
      "metadata": {
        "id": "QbWjZJNHLg-W",
        "colab_type": "code",
        "colab": {}
      },
      "source": [
        "# Removing the 'Open','High','Low' Column\n",
        "df.drop(['Open'],1,inplace =True)\n",
        "df.drop(['High'],1,inplace =True)\n",
        "df.drop(['Low'],1,inplace =True)\n"
      ],
      "execution_count": null,
      "outputs": []
    },
    {
      "cell_type": "code",
      "metadata": {
        "id": "Zeok4tMMLocb",
        "colab_type": "code",
        "colab": {}
      },
      "source": [
        "# Removing the 'Adj Close' Column\n",
        "df.drop(['Adj Close'],1,inplace =True)"
      ],
      "execution_count": null,
      "outputs": []
    },
    {
      "cell_type": "code",
      "metadata": {
        "id": "nQPvKu_b5aEh",
        "colab_type": "code",
        "colab": {
          "base_uri": "https://localhost:8080/",
          "height": 266
        },
        "outputId": "b26b7f76-7ed8-417a-bf69-20749098bc89"
      },
      "source": [
        "# Showing the first 7 rows of dataset\n",
        "df.head(7)"
      ],
      "execution_count": null,
      "outputs": [
        {
          "output_type": "execute_result",
          "data": {
            "text/html": [
              "<div>\n",
              "<style scoped>\n",
              "    .dataframe tbody tr th:only-of-type {\n",
              "        vertical-align: middle;\n",
              "    }\n",
              "\n",
              "    .dataframe tbody tr th {\n",
              "        vertical-align: top;\n",
              "    }\n",
              "\n",
              "    .dataframe thead th {\n",
              "        text-align: right;\n",
              "    }\n",
              "</style>\n",
              "<table border=\"1\" class=\"dataframe\">\n",
              "  <thead>\n",
              "    <tr style=\"text-align: right;\">\n",
              "      <th></th>\n",
              "      <th>Close</th>\n",
              "      <th>Volume</th>\n",
              "    </tr>\n",
              "  </thead>\n",
              "  <tbody>\n",
              "    <tr>\n",
              "      <th>0</th>\n",
              "      <td>355.957367</td>\n",
              "      <td>16389165</td>\n",
              "    </tr>\n",
              "    <tr>\n",
              "      <th>1</th>\n",
              "      <td>328.539368</td>\n",
              "      <td>26691849</td>\n",
              "    </tr>\n",
              "    <tr>\n",
              "      <th>2</th>\n",
              "      <td>307.761139</td>\n",
              "      <td>29560102</td>\n",
              "    </tr>\n",
              "    <tr>\n",
              "      <th>3</th>\n",
              "      <td>318.758972</td>\n",
              "      <td>28736825</td>\n",
              "    </tr>\n",
              "    <tr>\n",
              "      <th>4</th>\n",
              "      <td>310.632446</td>\n",
              "      <td>20702624</td>\n",
              "    </tr>\n",
              "    <tr>\n",
              "      <th>5</th>\n",
              "      <td>312.958771</td>\n",
              "      <td>18776342</td>\n",
              "    </tr>\n",
              "    <tr>\n",
              "      <th>6</th>\n",
              "      <td>339.189758</td>\n",
              "      <td>35102350</td>\n",
              "    </tr>\n",
              "  </tbody>\n",
              "</table>\n",
              "</div>"
            ],
            "text/plain": [
              "        Close    Volume\n",
              "0  355.957367  16389165\n",
              "1  328.539368  26691849\n",
              "2  307.761139  29560102\n",
              "3  318.758972  28736825\n",
              "4  310.632446  20702624\n",
              "5  312.958771  18776342\n",
              "6  339.189758  35102350"
            ]
          },
          "metadata": {
            "tags": []
          },
          "execution_count": 89
        }
      ]
    },
    {
      "cell_type": "code",
      "metadata": {
        "id": "71YlUpcbwhny",
        "colab_type": "code",
        "colab": {}
      },
      "source": [
        "# A Variable for predicting 'n' days out into the future\n",
        "# Assuming n = prediction_days = 30 \n",
        "prediction_days = 30\n",
        "\n",
        "#Create another column shifted 'n' units up\n",
        "df['Prediction'] = df[['Close']].shift(-prediction_days)"
      ],
      "execution_count": null,
      "outputs": []
    },
    {
      "cell_type": "code",
      "metadata": {
        "id": "OKMDy8Ik4TLX",
        "colab_type": "code",
        "colab": {
          "base_uri": "https://localhost:8080/",
          "height": 266
        },
        "outputId": "8a3c764a-8741-4d61-9ef1-aa1a9828b8d9"
      },
      "source": [
        "# Showing the first 7 rows of the new dataset\n",
        "df.head(7)"
      ],
      "execution_count": null,
      "outputs": [
        {
          "output_type": "execute_result",
          "data": {
            "text/html": [
              "<div>\n",
              "<style scoped>\n",
              "    .dataframe tbody tr th:only-of-type {\n",
              "        vertical-align: middle;\n",
              "    }\n",
              "\n",
              "    .dataframe tbody tr th {\n",
              "        vertical-align: top;\n",
              "    }\n",
              "\n",
              "    .dataframe thead th {\n",
              "        text-align: right;\n",
              "    }\n",
              "</style>\n",
              "<table border=\"1\" class=\"dataframe\">\n",
              "  <thead>\n",
              "    <tr style=\"text-align: right;\">\n",
              "      <th></th>\n",
              "      <th>Close</th>\n",
              "      <th>Volume</th>\n",
              "      <th>Prediction</th>\n",
              "    </tr>\n",
              "  </thead>\n",
              "  <tbody>\n",
              "    <tr>\n",
              "      <th>0</th>\n",
              "      <td>355.957367</td>\n",
              "      <td>16389165</td>\n",
              "      <td>300.821503</td>\n",
              "    </tr>\n",
              "    <tr>\n",
              "      <th>1</th>\n",
              "      <td>328.539368</td>\n",
              "      <td>26691849</td>\n",
              "      <td>306.844849</td>\n",
              "    </tr>\n",
              "    <tr>\n",
              "      <th>2</th>\n",
              "      <td>307.761139</td>\n",
              "      <td>29560102</td>\n",
              "      <td>305.622162</td>\n",
              "    </tr>\n",
              "    <tr>\n",
              "      <th>3</th>\n",
              "      <td>318.758972</td>\n",
              "      <td>28736825</td>\n",
              "      <td>299.214539</td>\n",
              "    </tr>\n",
              "    <tr>\n",
              "      <th>4</th>\n",
              "      <td>310.632446</td>\n",
              "      <td>20702624</td>\n",
              "      <td>304.023773</td>\n",
              "    </tr>\n",
              "    <tr>\n",
              "      <th>5</th>\n",
              "      <td>312.958771</td>\n",
              "      <td>18776342</td>\n",
              "      <td>303.107330</td>\n",
              "    </tr>\n",
              "    <tr>\n",
              "      <th>6</th>\n",
              "      <td>339.189758</td>\n",
              "      <td>35102350</td>\n",
              "      <td>283.355988</td>\n",
              "    </tr>\n",
              "  </tbody>\n",
              "</table>\n",
              "</div>"
            ],
            "text/plain": [
              "        Close    Volume  Prediction\n",
              "0  355.957367  16389165  300.821503\n",
              "1  328.539368  26691849  306.844849\n",
              "2  307.761139  29560102  305.622162\n",
              "3  318.758972  28736825  299.214539\n",
              "4  310.632446  20702624  304.023773\n",
              "5  312.958771  18776342  303.107330\n",
              "6  339.189758  35102350  283.355988"
            ]
          },
          "metadata": {
            "tags": []
          },
          "execution_count": 92
        }
      ]
    },
    {
      "cell_type": "code",
      "metadata": {
        "id": "odOU3Sy55zHM",
        "colab_type": "code",
        "colab": {
          "base_uri": "https://localhost:8080/",
          "height": 266
        },
        "outputId": "015bf0f0-60b0-47a6-becc-87bf66401995"
      },
      "source": [
        "# Showing the last 7 rows of the new dataset\n",
        "df.tail(7)"
      ],
      "execution_count": null,
      "outputs": [
        {
          "output_type": "execute_result",
          "data": {
            "text/html": [
              "<div>\n",
              "<style scoped>\n",
              "    .dataframe tbody tr th:only-of-type {\n",
              "        vertical-align: middle;\n",
              "    }\n",
              "\n",
              "    .dataframe tbody tr th {\n",
              "        vertical-align: top;\n",
              "    }\n",
              "\n",
              "    .dataframe thead th {\n",
              "        text-align: right;\n",
              "    }\n",
              "</style>\n",
              "<table border=\"1\" class=\"dataframe\">\n",
              "  <thead>\n",
              "    <tr style=\"text-align: right;\">\n",
              "      <th></th>\n",
              "      <th>Close</th>\n",
              "      <th>Volume</th>\n",
              "      <th>Prediction</th>\n",
              "    </tr>\n",
              "  </thead>\n",
              "  <tbody>\n",
              "    <tr>\n",
              "      <th>1870</th>\n",
              "      <td>8245.560547</td>\n",
              "      <td>23826849281</td>\n",
              "      <td>NaN</td>\n",
              "    </tr>\n",
              "    <tr>\n",
              "      <th>1871</th>\n",
              "      <td>8292.355469</td>\n",
              "      <td>21780231050</td>\n",
              "      <td>NaN</td>\n",
              "    </tr>\n",
              "    <tr>\n",
              "      <th>1872</th>\n",
              "      <td>8349.874023</td>\n",
              "      <td>19021882025</td>\n",
              "      <td>NaN</td>\n",
              "    </tr>\n",
              "    <tr>\n",
              "      <th>1873</th>\n",
              "      <td>8270.445313</td>\n",
              "      <td>18924326413</td>\n",
              "      <td>NaN</td>\n",
              "    </tr>\n",
              "    <tr>\n",
              "      <th>1874</th>\n",
              "      <td>8458.521484</td>\n",
              "      <td>23517560012</td>\n",
              "      <td>NaN</td>\n",
              "    </tr>\n",
              "    <tr>\n",
              "      <th>1875</th>\n",
              "      <td>8436.573242</td>\n",
              "      <td>23658103729</td>\n",
              "      <td>NaN</td>\n",
              "    </tr>\n",
              "    <tr>\n",
              "      <th>1876</th>\n",
              "      <td>8456.394531</td>\n",
              "      <td>20898606220</td>\n",
              "      <td>NaN</td>\n",
              "    </tr>\n",
              "  </tbody>\n",
              "</table>\n",
              "</div>"
            ],
            "text/plain": [
              "            Close       Volume  Prediction\n",
              "1870  8245.560547  23826849281         NaN\n",
              "1871  8292.355469  21780231050         NaN\n",
              "1872  8349.874023  19021882025         NaN\n",
              "1873  8270.445313  18924326413         NaN\n",
              "1874  8458.521484  23517560012         NaN\n",
              "1875  8436.573242  23658103729         NaN\n",
              "1876  8456.394531  20898606220         NaN"
            ]
          },
          "metadata": {
            "tags": []
          },
          "execution_count": 93
        }
      ]
    },
    {
      "cell_type": "code",
      "metadata": {
        "id": "1eqYlufx6N3y",
        "colab_type": "code",
        "colab": {
          "base_uri": "https://localhost:8080/",
          "height": 136
        },
        "outputId": "4de2e334-2c9d-4046-a8c1-5a0f7b3b64e6"
      },
      "source": [
        "# Create the independent dataset\n",
        "\n",
        "# Convert the dataframe to a numpy array and drop the prediction column\n",
        "X = np.array(df.drop(['Prediction'],1))\n",
        "\n",
        "# Remove the last 'n' rows where 'n' is the prediction_days \n",
        "X = X[:len(df)-prediction_days]\n",
        "\n",
        "print(X)"
      ],
      "execution_count": null,
      "outputs": [
        {
          "output_type": "stream",
          "text": [
            "[[3.55957367e+02 1.63891650e+07]\n",
            " [3.28539368e+02 2.66918490e+07]\n",
            " [3.07761139e+02 2.95601020e+07]\n",
            " ...\n",
            " [7.42463135e+03 1.11125789e+10]\n",
            " [7.27220947e+03 1.19812777e+10]\n",
            " [7.51501123e+03 1.64139714e+10]]\n"
          ],
          "name": "stdout"
        }
      ]
    },
    {
      "cell_type": "code",
      "metadata": {
        "id": "d_DRWvrv68-m",
        "colab_type": "code",
        "colab": {
          "base_uri": "https://localhost:8080/",
          "height": 51
        },
        "outputId": "b6bfe160-9534-48a3-e019-737b9f2af8d4"
      },
      "source": [
        "# Create the dependent data set\n",
        "\n",
        "# Convert the dataframe to a numpy array\n",
        "y = np.array(df['Prediction'])\n",
        "\n",
        "# Get all of the values except the last 'n' rows\n",
        "y = y[:-prediction_days]\n",
        "\n",
        "print(y)"
      ],
      "execution_count": null,
      "outputs": [
        {
          "output_type": "stream",
          "text": [
            "[ 300.821503  306.844849  305.622162 ... 8458.521484 8436.573242\n",
            " 8456.394531]\n"
          ],
          "name": "stdout"
        }
      ]
    },
    {
      "cell_type": "code",
      "metadata": {
        "id": "AfjgsVkm7mP3",
        "colab_type": "code",
        "colab": {}
      },
      "source": [
        "# Splitting the data into 80% training and 20% testing\n",
        "from sklearn.model_selection import train_test_split\n",
        "x_train, x_test, y_train, y_test = train_test_split(X,y, test_size = 0.2)"
      ],
      "execution_count": null,
      "outputs": []
    },
    {
      "cell_type": "code",
      "metadata": {
        "id": "ixw4cLNa8azO",
        "colab_type": "code",
        "colab": {
          "base_uri": "https://localhost:8080/",
          "height": 527
        },
        "outputId": "b08d73ee-4ca7-49f5-e2ea-af4c8e1b4ea4"
      },
      "source": [
        "# Set the prediction_days_array equal to the last 30 rows from yhe original data set\n",
        "prediction_days_array = np.array(df.drop(['Prediction'],1))[-prediction_days:]\n",
        "\n",
        "print(prediction_days_array)"
      ],
      "execution_count": null,
      "outputs": [
        {
          "output_type": "stream",
          "text": [
            "[[7.50835303e+03 1.42271613e+10]\n",
            " [7.82407471e+03 1.76446979e+10]\n",
            " [7.79822656e+03 1.60012500e+10]\n",
            " [7.53851318e+03 1.77592168e+10]\n",
            " [7.55450293e+03 1.31693345e+10]\n",
            " [7.54500537e+03 1.25205529e+10]\n",
            " [7.59537988e+03 1.37414755e+10]\n",
            " [7.43596826e+03 1.37932250e+10]\n",
            " [7.26673145e+03 1.45123276e+10]\n",
            " [7.28427344e+03 1.28654158e+10]\n",
            " [7.13811768e+03 1.40122918e+10]\n",
            " [7.15186279e+03 1.23526828e+10]\n",
            " [7.37044385e+03 1.38983348e+10]\n",
            " [7.39227686e+03 1.42297610e+10]\n",
            " [7.25902490e+03 1.50994145e+10]\n",
            " [6.75024951e+03 1.97107615e+10]\n",
            " [6.74862109e+03 1.46515667e+10]\n",
            " [7.81634277e+03 2.59065225e+10]\n",
            " [8.34345801e+03 4.01572477e+10]\n",
            " [8.61756641e+03 2.94055540e+10]\n",
            " [8.34004883e+03 2.78852446e+10]\n",
            " [8.48309961e+03 2.55786156e+10]\n",
            " [8.25366992e+03 2.48411221e+10]\n",
            " [8.24556055e+03 2.38268493e+10]\n",
            " [8.29235547e+03 2.17802310e+10]\n",
            " [8.34987402e+03 1.90218820e+10]\n",
            " [8.27044531e+03 1.89243264e+10]\n",
            " [8.45852148e+03 2.35175600e+10]\n",
            " [8.43657324e+03 2.36581037e+10]\n",
            " [8.45639453e+03 2.08986062e+10]]\n"
          ],
          "name": "stdout"
        }
      ]
    },
    {
      "cell_type": "code",
      "metadata": {
        "id": "dDCkE5vp9w-d",
        "colab_type": "code",
        "colab": {
          "base_uri": "https://localhost:8080/",
          "height": 51
        },
        "outputId": "efb1cae5-d6f0-4081-bf58-f2c48770ef49"
      },
      "source": [
        "# Import Support Vector Regression(SVR) from scikit-learn(sklearn)\n",
        "from sklearn.svm import SVR\n",
        "# Create and train the Support Vector Machine (SVM Regression) using radial basis function(rbf)\n",
        "svr_rbf = SVR(kernel = 'rbf', C = 1e3, gamma = 0.00001)\n",
        "svr_rbf.fit(x_train, y_train)"
      ],
      "execution_count": null,
      "outputs": [
        {
          "output_type": "execute_result",
          "data": {
            "text/plain": [
              "SVR(C=1000.0, cache_size=200, coef0=0.0, degree=3, epsilon=0.1, gamma=1e-05,\n",
              "    kernel='rbf', max_iter=-1, shrinking=True, tol=0.001, verbose=False)"
            ]
          },
          "metadata": {
            "tags": []
          },
          "execution_count": 98
        }
      ]
    },
    {
      "cell_type": "code",
      "metadata": {
        "id": "WCco41G8_eyN",
        "colab_type": "code",
        "colab": {
          "base_uri": "https://localhost:8080/",
          "height": 34
        },
        "outputId": "e13a9569-ccf3-4960-8d56-6f71e6b73488"
      },
      "source": [
        "# Test the model\n",
        "svr_rbf_confidence = svr_rbf.score(x_test, y_test)\n",
        "print(\"svr_rbf accuracy: \",svr_rbf_confidence)"
      ],
      "execution_count": null,
      "outputs": [
        {
          "output_type": "stream",
          "text": [
            "svr_rbf accuracy:  -0.23406865200127447\n"
          ],
          "name": "stdout"
        }
      ]
    },
    {
      "cell_type": "code",
      "metadata": {
        "id": "JibFWk8vADzd",
        "colab_type": "code",
        "colab": {
          "base_uri": "https://localhost:8080/",
          "height": 1000
        },
        "outputId": "4a47cd4b-0f03-40d3-a464-8426d71065d8"
      },
      "source": [
        "# Print the predicted values\n",
        "svm_prediction = svr_rbf.predict(x_test)\n",
        "print(svm_prediction)\n",
        "\n",
        "print()\n",
        "\n",
        "# Print the actual values\n",
        "print(y_test)"
      ],
      "execution_count": null,
      "outputs": [
        {
          "output_type": "stream",
          "text": [
            "[1583.5380379  1583.5380379  1583.5380379  1583.5380379  1583.5380379\n",
            " 1583.5380379  1583.5380379  1583.5380379  1583.5380379  1583.5380379\n",
            " 1583.5380379  1583.5380379  1583.5380379  1583.5380379  1583.5380379\n",
            " 1583.5380379  1583.5380379  1583.5380379  1583.5380379  1583.5380379\n",
            " 1583.5380379  1583.5380379  1583.5380379  1583.5380379  1583.5380379\n",
            " 1583.5380379  1583.5380379  1583.5380379  1583.5380379  1583.5380379\n",
            " 1583.5380379  1583.5380379  1583.5380379  1583.5380379  1583.5380379\n",
            " 1583.5380379  1583.5380379  1583.5380379  1583.5380379  1583.5380379\n",
            " 1583.5380379  1583.5380379  1583.5380379  1583.5380379  1583.5380379\n",
            " 1583.5380379  1583.5380379  1583.5380379  1583.5380379  1583.5380379\n",
            " 1583.5380379  1583.5380379  1583.5380379  1583.5380379  1583.5380379\n",
            " 1583.5380379  1583.5380379  1583.5380379  1583.5380379  1583.5380379\n",
            " 1583.5380379  1583.5380379  1583.5380379  1583.5380379  1583.5380379\n",
            " 1583.5380379  1583.5380379  1583.5380379  1583.5380379  1583.5380379\n",
            " 1583.5380379  1583.5380379  1583.5380379  1583.5380379  1583.5380379\n",
            " 1583.5380379  1583.5380379  1583.5380379  1583.5380379  1583.5380379\n",
            " 1583.5380379  1583.5380379  1583.5380379  1583.5380379  1583.5380379\n",
            " 1583.5380379  1583.5380379  1583.5380379  1583.5380379  1583.5380379\n",
            " 1583.5380379  1583.5380379  1583.5380379  1583.5380379  1583.5380379\n",
            " 1583.5380379  1583.5380379  1583.5380379  1583.5380379  1583.5380379\n",
            " 1583.5380379  1583.5380379  1583.5380379  1583.5380379  1583.5380379\n",
            " 1583.5380379  1583.5380379  1583.5380379  1583.5380379  1583.5380379\n",
            " 1583.5380379  1583.5380379  1583.5380379  1583.5380379  1583.5380379\n",
            " 1583.5380379  1583.5380379  1583.5380379  1583.5380379  1583.5380379\n",
            " 1583.5380379  1580.63435786 1583.5380379  1583.5380379  1583.5380379\n",
            " 1583.5380379  1583.5380379  1583.5380379  1583.5380379  1583.5380379\n",
            " 1154.08769585 1583.5380379  1583.5380379  1583.5380379  1583.33082614\n",
            " 1583.5380379  1583.5380379  1583.5380379  1583.5380379  1583.5380379\n",
            " 1583.5380379  1583.5380379  1583.5380379  1583.5380379  1583.5380379\n",
            " 1583.5380379  1583.5380379  1583.5380379  1583.5380379   610.34221389\n",
            " 1583.5380379  1583.5380379  1583.5380379  1583.5380379  1583.5380379\n",
            " 1583.5380379  1583.5380379  1583.5380379  1583.5380379  1583.5380379\n",
            " 1583.5380379  1583.5380379  1583.5380379  1583.5380379  1583.5380379\n",
            " 1583.5380379  1583.5380379  1583.5380379  1583.5380379  1583.5380379\n",
            " 1583.5380379  1583.5380379  1583.5380379  1583.5380379  1583.5380379\n",
            " 1583.5380379  1583.5380379  1583.5380379  1583.5380379  1583.5380379\n",
            " 1583.5380379  1583.5380379  1583.5380379  1583.5380379  1583.5380379\n",
            " 1583.5380379  1583.5380379  1583.5380379  1583.5380379  1583.5380379\n",
            " 1583.5380379  1583.5380379  1583.5380379  1583.5380379  1583.5380379\n",
            " 1583.5380379  1583.5380379  1583.5380379  1583.5380379  1583.5380379\n",
            " 1583.5380379  1583.5380379  1583.5380379  1583.5380379  1583.5380379\n",
            " 1583.5380379  1583.5380379  1583.5380379  1583.5380379  1583.5380379\n",
            " 1583.5380379  1583.5380379  1583.5380379  1583.5380379  1583.5380379\n",
            " 1583.5380379  1583.5380379  1583.5380379  1583.5380379  1583.5380379\n",
            " 1583.5380379  1583.5380379  1583.5380379  1583.5380379  1583.5380379\n",
            " 1583.5380379  1583.5380379  1583.5380379  1583.5380379  1583.5380379\n",
            " 1583.5380379  1583.5380379  1583.5380379  1583.5380379  1583.5380379\n",
            " 1583.5380379  1583.5380379  1583.5380379  1583.5380379  1583.5380379\n",
            " 1583.5380379  1583.5380379  1583.5380379  1583.5380379  1583.5380379\n",
            " 1583.05930213 1583.5380379  1583.5380379  1583.5380379  1583.5380379\n",
            " 1583.5380379  1583.5380379  1583.5380379  1583.5380379  1583.5380379\n",
            " 1583.5380379  1583.5380379  1583.5380379  1583.5380379  1583.5380379\n",
            " 1583.5380379  1583.5380379  1583.5380379  1583.5380379  1583.5380379\n",
            " 1583.5380379  1583.5380379  1583.5380379  1583.5380379  1583.5380379\n",
            " 1583.5380379  1583.5380379  1583.5380379  1583.5380379  1583.5380379\n",
            " 1583.5380379  1583.5380379  1583.5380379  1583.5380379  1583.5380379\n",
            " 1583.5380379  1583.5380379  1583.5380379  1583.5380379  1583.5380379\n",
            " 1583.5380379  1583.5380379  1583.5380379  1583.5380379  1583.5380379\n",
            " 1583.5380379  1583.5380379  1583.5380379  1583.5380379  1583.5380379\n",
            " 1583.5380379  1583.5380379  1583.5380379  1583.5380379  1583.5380379\n",
            " 1583.5380379  1583.5380379  1583.5380379  1583.5380379  1583.5380379\n",
            " 1583.5380379  1583.5380379  1583.5380379  1583.5380379  1583.5380379\n",
            " 1583.5380379  1583.5380379  1583.5380379  1583.5380379  1583.5380379\n",
            " 1583.5380379  1583.5380379  1583.5380379  1583.5380379  1583.5380379\n",
            " 1583.5380379  1583.5380379  1583.5380379  1583.5380379  1583.5380379\n",
            " 1583.5380379  1583.5380379  1583.5380379  1583.5380379  1583.5380379\n",
            " 1583.5380379  1583.53129737 1583.5380379  1583.5380379  1583.5380379\n",
            " 1583.5380379  1583.5380379  1583.5380379  1583.5380379  1583.5380379\n",
            " 1583.5380379  1583.5380379  1583.5380379  1583.5380379  1583.5380379\n",
            " 1583.5380379  1583.5380379  1583.5380379  1583.5380379  1583.5380379\n",
            " 1583.5380379  1583.5380379  1583.5380379  1583.5380379  1583.5380379\n",
            " 1583.5380379  1583.5380379  1583.5380379  1583.5380379  1583.5380379\n",
            " 1583.5380379  1583.5380379  1583.5380379  1583.5380379  1583.5380379\n",
            " 1583.5380379  1583.5380379  1583.5380379  1583.5380379  1583.5380379 ]\n",
            "\n",
            "[10098.285156  5708.814453  9140.374023   223.77475    262.231995\n",
            "   350.359161   202.950928   207.497162   203.229233   355.211731\n",
            "  3004.021484   391.623291  7630.927734   214.723526  2227.769531\n",
            "   211.479492  5209.499023  9482.902344 10500.03125    212.346649\n",
            "  6786.318359  5759.161621  1190.984375  5711.329102  5524.668945\n",
            "   373.271606  6454.709961  3585.598877   279.845367  1701.868896\n",
            "  1577.581421  3359.558594  8924.292969   212.999634   232.012833\n",
            "  5762.466309   690.950867  2251.830566   602.977112   247.328537\n",
            "   391.674835  1061.493042  8529.861328   630.987     4497.265137\n",
            "   254.782791  6536.92041    934.744324   300.738586  7866.871094\n",
            "  3089.556641  6407.12207    203.255432   305.622162   367.064423\n",
            "   333.557831   733.709045  3524.441162   217.770752   397.291138\n",
            "  2507.928955   232.201706   419.381073   734.287231  5666.682129\n",
            "  7266.731445  6271.749023  9212.255859  1150.83313    283.355988\n",
            "   405.64917    539.408752   343.026733  5435.495605 11776.447266\n",
            "  9699.050781  5608.355469   616.757568   261.365234  3308.425781\n",
            "  1934.145996  5571.442383  5380.359375 12217.572266  9386.741211\n",
            "   396.908997  3486.701904  3653.833008  2729.692383  5678.756836\n",
            "  3145.284912  5821.15332   2008.209839  7370.443848   680.31604\n",
            "  5302.757324   639.162231   402.015411  3202.042725   252.667847\n",
            "   247.313187   243.380936   313.787018 10073.288086  3197.257813\n",
            "  7138.117676   391.602722  1046.696045   657.297424  1682.200073\n",
            "  7433.726563   201.966354  1368.687378   628.040222 12107.336914\n",
            "  5624.96582    621.897888  5456.281738   784.318054   373.814514\n",
            "  2320.778076   260.099792  9306.707031  7798.226563  5820.34082\n",
            "  3502.470703  3398.996582  2230.315674  5690.88623    526.203674\n",
            "   206.356339   551.163574   241.952362   705.373779   966.530151\n",
            "  1105.212524   263.024017   365.188812   695.108582   355.526184\n",
            "   226.909973   294.792755  5600.885742  4740.283203  5627.106934\n",
            "  9681.073242  7554.50293   1018.176636  7769.595215   205.996674\n",
            "  7665.601074  3572.601807  3463.68042    216.860641  3272.990234\n",
            "   843.645508  5682.285156  8245.560547  7515.01123    204.967926\n",
            "  3100.22168   2540.775635  7342.637695   400.194977  3773.024902\n",
            "  1160.527832   391.373199 14490.771484   217.358795  8419.313477\n",
            "   207.379395   227.396652   218.984268   202.597092  5662.807617\n",
            "   261.235901  2916.662354  5074.62207   8029.626953  4716.388672\n",
            "   214.955185   400.076294   663.576111   644.320618   379.606232\n",
            "  4776.865234   401.89801   6510.114258  7650.095215   335.620575\n",
            "   374.457642   284.888611  2209.35083    690.208374   993.704712\n",
            " 10096.293945   274.089172  6067.402344  3394.986328  4927.896973\n",
            "  2763.494873  8483.099609   693.117004  2347.535156  7609.142578\n",
            "   375.850647  2172.174072   377.947479  6538.252441  6683.214355\n",
            "   207.50618   1213.207886   234.364304   278.903137  5619.390625\n",
            "  3053.366943   409.646667   207.316315  3035.792725  8458.521484\n",
            "   482.486084   372.66156    348.031342   513.397888  2910.091797\n",
            "  7870.661621   199.972412  5489.974609  6918.433105   620.674133\n",
            "   398.278259   388.825806   205.879745   219.420822  2312.179688\n",
            "  7708.179688  3555.384033   863.21228   9452.435547   348.289032\n",
            "  2331.295654   194.512772 12421.938477   369.608307  1033.058472\n",
            "   853.092712  7435.968262  8112.359863  2408.293213  1212.820923\n",
            "  5607.169434   338.126343   395.465027  3450.862793  3192.196777\n",
            "   713.028564   201.196106  8452.749023   381.758453  6205.382813\n",
            "   223.236053   506.632294   277.455841  7068.740723   227.713165\n",
            "  3650.523682  6477.605957   210.11554   5773.525391   503.717682\n",
            "  2290.377686   757.136414   259.951721  5102.976074   519.483459\n",
            "  5593.523926   333.654572   282.140717   312.67688    539.881653\n",
            "  4422.508301  3215.769775  7650.920898  6114.602051  4964.707031\n",
            "   546.738342 10281.453125  6480.469238   270.138153   362.326385\n",
            "  7142.606445   663.985291  4634.541016   216.111359 10797.099609\n",
            "  9302.545898   212.601593  3828.597656   518.562073  2176.186523\n",
            "   371.970947  1928.954956   181.969894  4987.667969   378.363129\n",
            "  4253.27832   9849.555664 10198.811523  7142.140625  1743.141235\n",
            "   362.885406  3289.634033  9314.99707    756.777771  7306.61377\n",
            "   209.012756  2212.710449  7205.201172   202.990082   631.653625\n",
            "  6387.591797  4699.305664   868.315308  8746.569336  3657.865967\n",
            "  1090.564209 10516.327148   191.814011  2324.178955   357.325684\n",
            "  1414.817139   863.09967   6434.650391   233.992599  7782.442383\n",
            "   579.893311   550.95166   5681.992188  5551.797852  3516.363281\n",
            "  3001.490967  6275.925781   226.753616  3334.840332  8270.445313\n",
            "   312.958832  3303.641113   390.161957  8128.011719   581.496704\n",
            "   234.254517   253.000748  3036.359619   858.139038   950.363159\n",
            "  7728.803223   282.186157  5592.500488   403.19165    986.323425\n",
            "  6936.570313  5389.992188   940.247192  4746.688477   941.114258\n",
            " 10797.560547   601.380737   543.140808   543.264832  5644.216309]\n"
          ],
          "name": "stdout"
        }
      ]
    },
    {
      "cell_type": "code",
      "metadata": {
        "id": "uucPGg-dAjXA",
        "colab_type": "code",
        "colab": {
          "base_uri": "https://localhost:8080/",
          "height": 119
        },
        "outputId": "200cdc46-aed2-4e52-d09e-30c1b60c6240"
      },
      "source": [
        "# Print the model predictions for the next 'n = 30' days\n",
        "svm_prediction = svr_rbf.predict(prediction_days_array)\n",
        "print(svm_prediction)\n"
      ],
      "execution_count": null,
      "outputs": [
        {
          "output_type": "stream",
          "text": [
            "[1583.5380379 1583.5380379 1583.5380379 1583.5380379 1583.5380379\n",
            " 1583.5380379 1583.5380379 1583.5380379 1583.5380379 1583.5380379\n",
            " 1583.5380379 1583.5380379 1583.5380379 1583.5380379 1583.5380379\n",
            " 1583.5380379 1583.5380379 1583.5380379 1583.5380379 1583.5380379\n",
            " 1583.5380379 1583.5380379 1583.5380379 1583.5380379 1583.5380379\n",
            " 1583.5380379 1583.5380379 1583.5380379 1583.5380379 1583.5380379]\n"
          ],
          "name": "stdout"
        }
      ]
    },
    {
      "cell_type": "code",
      "metadata": {
        "id": "XjttYHXJAzsE",
        "colab_type": "code",
        "colab": {
          "base_uri": "https://localhost:8080/",
          "height": 561
        },
        "outputId": "96d5babc-0ff1-4fc4-c1fe-72a031b3394d"
      },
      "source": [
        "print()\n",
        "\n",
        "#Print the actual price for bitcoin for the last 30 days\n",
        "print(df.tail(prediction_days))"
      ],
      "execution_count": null,
      "outputs": [
        {
          "output_type": "stream",
          "text": [
            "\n",
            "            Close       Volume  Prediction\n",
            "1847  7508.353027  14227161316         NaN\n",
            "1848  7824.074707  17644697905         NaN\n",
            "1849  7798.226563  16001250003         NaN\n",
            "1850  7538.513184  17759216751         NaN\n",
            "1851  7554.502930  13169334495         NaN\n",
            "1852  7545.005371  12520552917         NaN\n",
            "1853  7595.379883  13741475461         NaN\n",
            "1854  7435.968262  13793224979         NaN\n",
            "1855  7266.731445  14512327589         NaN\n",
            "1856  7284.273438  12865415827         NaN\n",
            "1857  7138.117676  14012291755         NaN\n",
            "1858  7151.862793  12352682776         NaN\n",
            "1859  7370.443848  13898334789         NaN\n",
            "1860  7392.276855  14229761007         NaN\n",
            "1861  7259.024902  15099414521         NaN\n",
            "1862  6750.249512  19710761538         NaN\n",
            "1863  6748.621094  14651566651         NaN\n",
            "1864  7816.342773  25906522538         NaN\n",
            "1865  8343.458008  40157247739         NaN\n",
            "1866  8617.566406  29405554028         NaN\n",
            "1867  8340.048828  27885244605         NaN\n",
            "1868  8483.099609  25578615575         NaN\n",
            "1869  8253.669922  24841122081         NaN\n",
            "1870  8245.560547  23826849281         NaN\n",
            "1871  8292.355469  21780231050         NaN\n",
            "1872  8349.874023  19021882025         NaN\n",
            "1873  8270.445313  18924326413         NaN\n",
            "1874  8458.521484  23517560012         NaN\n",
            "1875  8436.573242  23658103729         NaN\n",
            "1876  8456.394531  20898606220         NaN\n"
          ],
          "name": "stdout"
        }
      ]
    }
  ]
}